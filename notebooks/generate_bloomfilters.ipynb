{
 "cells": [
  {
   "cell_type": "code",
   "execution_count": 6,
   "metadata": {},
   "outputs": [
    {
     "name": "stdout",
     "output_type": "stream",
     "text": [
      "The autoreload extension is already loaded. To reload it, use:\n",
      "  %reload_ext autoreload\n"
     ]
    }
   ],
   "source": [
    "%load_ext autoreload\n",
    "%autoreload 2\n",
    "import boto3\n",
    "import tqdm\n",
    "\n",
    "import json\n",
    "from pathlib import Path\n",
    "import gzip\n",
    "\n",
    "import numpy as np\n",
    "import pandas as pd\n",
    "\n",
    "import re\n",
    "\n",
    "from itertools import chain\n",
    "\n",
    "from datetime import datetime\n",
    "\n",
    "from bloom_filter import BloomFilter\n",
    "\n",
    "from urllib.parse import urlparse"
   ]
  },
  {
   "cell_type": "code",
   "execution_count": 4,
   "metadata": {},
   "outputs": [
    {
     "name": "stdout",
     "output_type": "stream",
     "text": [
      "Requirement already satisfied: boto3 in /home/eol/miniconda3/envs/artscraper/lib/python3.7/site-packages (1.14.60)\n",
      "Requirement already satisfied: pandas in /home/eol/miniconda3/envs/artscraper/lib/python3.7/site-packages (1.1.2)\n",
      "Collecting tqdm\n",
      "  Downloading tqdm-4.49.0-py2.py3-none-any.whl (69 kB)\n",
      "\u001b[K     |████████████████████████████████| 69 kB 1.4 MB/s eta 0:00:011\n",
      "\u001b[?25hRequirement already satisfied: s3transfer<0.4.0,>=0.3.0 in /home/eol/miniconda3/envs/artscraper/lib/python3.7/site-packages (from boto3) (0.3.3)\n",
      "Requirement already satisfied: botocore<1.18.0,>=1.17.60 in /home/eol/miniconda3/envs/artscraper/lib/python3.7/site-packages (from boto3) (1.17.60)\n",
      "Requirement already satisfied: jmespath<1.0.0,>=0.7.1 in /home/eol/miniconda3/envs/artscraper/lib/python3.7/site-packages (from boto3) (0.10.0)\n",
      "Requirement already satisfied: python-dateutil>=2.7.3 in /home/eol/miniconda3/envs/artscraper/lib/python3.7/site-packages (from pandas) (2.8.1)\n",
      "Requirement already satisfied: pytz>=2017.2 in /home/eol/miniconda3/envs/artscraper/lib/python3.7/site-packages (from pandas) (2020.1)\n",
      "Requirement already satisfied: numpy>=1.15.4 in /home/eol/miniconda3/envs/artscraper/lib/python3.7/site-packages (from pandas) (1.19.2)\n",
      "Requirement already satisfied: docutils<0.16,>=0.10 in /home/eol/miniconda3/envs/artscraper/lib/python3.7/site-packages (from botocore<1.18.0,>=1.17.60->boto3) (0.15.2)\n",
      "Requirement already satisfied: urllib3<1.26,>=1.20; python_version != \"3.4\" in /home/eol/miniconda3/envs/artscraper/lib/python3.7/site-packages (from botocore<1.18.0,>=1.17.60->boto3) (1.25.10)\n",
      "Requirement already satisfied: six>=1.5 in /home/eol/miniconda3/envs/artscraper/lib/python3.7/site-packages (from python-dateutil>=2.7.3->pandas) (1.15.0)\n",
      "Installing collected packages: tqdm\n",
      "Successfully installed tqdm-4.49.0\n"
     ]
    }
   ],
   "source": [
    "!pip install boto3 pandas tqdm"
   ]
  },
  {
   "cell_type": "markdown",
   "metadata": {},
   "source": [
    "# In our middleware, this is how urls are preprocessed before being added."
   ]
  },
  {
   "cell_type": "code",
   "execution_count": 15,
   "metadata": {},
   "outputs": [],
   "source": [
    "def urlpath(url): return urlparse(url).path"
   ]
  },
  {
   "cell_type": "code",
   "execution_count": 18,
   "metadata": {},
   "outputs": [],
   "source": [
    "startpage_links = [\n",
    "    \"https://www.dr.dk/nyheder/indland\",\n",
    "    \"https://www.dr.dk/nyheder/udland\",\n",
    "    \"https://www.dr.dk/nyheder/penge\",\n",
    "    \"https://www.dr.dk/nyheder/politik\",\n",
    "    \"https://www.dr.dk/nyheder/regionale\",\n",
    "    \"https://www.dr.dk/sporten\",\n",
    "    \"https://www.dr.dk/nyheder/kultur\",\n",
    "    \"https://www.dr.dk/nyheder/vejret\",\n",
    "    \"https://www.dr.dk/nyheder/viden\",\n",
    "    \"https://www.dr.dk/nyheder\",\n",
    "]\n",
    "spl = set(startpage_links)"
   ]
  },
  {
   "cell_type": "code",
   "execution_count": 8,
   "metadata": {},
   "outputs": [
    {
     "name": "stdout",
     "output_type": "stream",
     "text": [
      "CPU times: user 2.61 s, sys: 249 ms, total: 2.85 s\n",
      "Wall time: 2.86 s\n"
     ]
    }
   ],
   "source": [
    "%%time\n",
    "lines = []\n",
    "with open(\"dr_frontpage_total.jsonl\") as reader:\n",
    "    for line in reader:\n",
    "        lines.append(json.loads(line))"
   ]
  },
  {
   "cell_type": "code",
   "execution_count": 16,
   "metadata": {},
   "outputs": [],
   "source": [
    "urls = set(urlpath(line.get(\"url\")[0]) for line in lines)"
   ]
  },
  {
   "cell_type": "code",
   "execution_count": 23,
   "metadata": {},
   "outputs": [
    {
     "data": {
      "text/plain": [
       "set()"
      ]
     },
     "execution_count": 23,
     "metadata": {},
     "output_type": "execute_result"
    }
   ],
   "source": [
    "urls & spl"
   ]
  },
  {
   "cell_type": "code",
   "execution_count": 25,
   "metadata": {},
   "outputs": [
    {
     "name": "stderr",
     "output_type": "stream",
     "text": [
      "100%|██████████| 113760/113760 [00:23<00:00, 4788.05it/s]\n"
     ]
    }
   ],
   "source": [
    "filterr = BloomFilter(max_elements=4000000, error_rate=1e-9, filename=\"dr_frontpage.filter\")\n",
    "for url in tqdm.tqdm(urls):\n",
    "    filterr.add(url)\n",
    "filterr.backend.close()"
   ]
  },
  {
   "cell_type": "code",
   "execution_count": null,
   "metadata": {},
   "outputs": [],
   "source": []
  }
 ],
 "metadata": {
  "kernelspec": {
   "display_name": "Python 3",
   "language": "python",
   "name": "python3"
  },
  "language_info": {
   "codemirror_mode": {
    "name": "ipython",
    "version": 3
   },
   "file_extension": ".py",
   "mimetype": "text/x-python",
   "name": "python",
   "nbconvert_exporter": "python",
   "pygments_lexer": "ipython3",
   "version": "3.7.9"
  }
 },
 "nbformat": 4,
 "nbformat_minor": 4
}
